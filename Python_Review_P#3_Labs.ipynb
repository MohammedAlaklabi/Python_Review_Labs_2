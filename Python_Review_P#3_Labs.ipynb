{
 "cells": [
  {
   "cell_type": "markdown",
   "id": "2d4a0e4d",
   "metadata": {},
   "source": [
    "## Lab1-Lists\n",
    "Given the following list : [5, 4, 17, 19, 30, 2, 7, 10, 45]\n",
    "- Q1: Write a Python program to sum all the items in the list.\n",
    "- Q2: Write a Python program to get the largest number from the list.\n",
    "- Q3: Use list comprehension, create a new list from the above list containing only even numbers.\n",
    "- Q4: Use list slicing to get a new list from the previous list starting from the start to the 5th element in the list."
   ]
  },
  {
   "cell_type": "code",
   "execution_count": 5,
   "id": "88e0fe9c",
   "metadata": {},
   "outputs": [
    {
     "name": "stdout",
     "output_type": "stream",
     "text": [
      "Sum of all numbers: 139\n",
      "Largest number: 45\n",
      "List of even numbers: [4, 30, 2, 10]\n",
      "New list: [5, 4, 17, 19, 30]\n"
     ]
    }
   ],
   "source": [
    "lst = [5, 4, 17, 19, 30, 2, 7, 10, 45]\n",
    "\n",
    "# Sum all numbers\n",
    "sumtotal = sum(lst)\n",
    "print(\"Sum of all numbers:\", sumtotal)\n",
    "\n",
    "# The Largest number\n",
    "largenumber = max(lst)\n",
    "print(\"Largest number:\", largenumber)\n",
    "\n",
    "# List of the even numbers\n",
    "evennumbers = [num for num in lst if num % 2 == 0]\n",
    "print(\"List of even numbers:\", evennumbers)\n",
    "\n",
    "# New list using list slicing\n",
    "lst = lst[:5]\n",
    "print(\"New list:\", lst)"
   ]
  },
  {
   "cell_type": "markdown",
   "id": "4df61e4c",
   "metadata": {},
   "source": [
    "## Lab2-Dictionary\n",
    "\n",
    "Build a phone book program that receives the phone number, and returns the name of the owner. \n",
    "You can follow the table below:\n",
    "\n",
    "| Name    | Number      |\n",
    "| -------- | ---------- |\n",
    "| Amal     | 1111111111 |\n",
    "| Mohammed | 2222222222 |\n",
    "| Khadijah | 3333333333 |\n",
    "| Abdullah  | 4444444444 |\n",
    "| Rawan    | 5555555555 |\n",
    "| Faisal   | 6666666666 |\n",
    "| Layla    | 7777777777 |\n",
    "\n",
    "\n",
    "- If the number exists, print the owner. Otherwise, print \"Sorry, the number is not found\".\n",
    "- If the number is less or more than 10 numbers, print \"This is invalid number\".\n",
    "- If the number contains letters or symbols, print \"This is invalid number\"."
   ]
  },
  {
   "cell_type": "code",
   "execution_count": 1,
   "id": "7d53c06c",
   "metadata": {},
   "outputs": [],
   "source": [
    "BookPhone = {\n",
    "    \"1111111111\": \"Amal\",\n",
    "    \"2222222222\": \"Mohammed\",\n",
    "    \"3333333333\": \"Khadijah\",\n",
    "    \"4444444444\": \"Abdullah\",\n",
    "    \"5555555555\": \"Rawan\",\n",
    "    \"6666666666\": \"Faisal\",\n",
    "    \"7777777777\": \"Layla\"\n",
    "}"
   ]
  },
  {
   "cell_type": "code",
   "execution_count": 2,
   "id": "ffdffaec",
   "metadata": {},
   "outputs": [],
   "source": [
    "BPhone = input(\"Enter a 10-digit phone number: \")"
   ]
  },
  {
   "cell_type": "code",
   "execution_count": 3,
   "id": "93b05ba5",
   "metadata": {},
   "outputs": [
    {
     "name": "stdout",
     "output_type": "stream",
     "text": [
      "Sorry, the number is not found\n"
     ]
    }
   ],
   "source": [
    "# Check for number length\n",
    "if len(BPhone) != 10:\n",
    "    print(\"This is invalid number\")\n",
    "else:\n",
    "    # Check for digits only\n",
    "    if not BPhone.isdigit():\n",
    "        print(\"This is invalid number\")\n",
    "    else:\n",
    "        # Search phone book\n",
    "        if BPhone in BookPhone:\n",
    "            print(\"Owner:\", BookPhone[BPhone])\n",
    "        else:\n",
    "            print(\"Sorry, the number is not found\")"
   ]
  }
 ],
 "metadata": {
  "kernelspec": {
   "display_name": "Python 3 (ipykernel)",
   "language": "python",
   "name": "python3"
  },
  "language_info": {
   "codemirror_mode": {
    "name": "ipython",
    "version": 3
   },
   "file_extension": ".py",
   "mimetype": "text/x-python",
   "name": "python",
   "nbconvert_exporter": "python",
   "pygments_lexer": "ipython3",
   "version": "3.12.3"
  }
 },
 "nbformat": 4,
 "nbformat_minor": 5
}
