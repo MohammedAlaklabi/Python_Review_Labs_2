{
 "cells": [
  {
   "cell_type": "code",
   "execution_count": 2,
   "id": "608faefc-f582-4a8c-ac35-29a1097c82f0",
   "metadata": {},
   "outputs": [
    {
     "data": {
      "text/plain": [
       "'\\nWrite a program that does the following:\\n- Ask the user to enter their name.\\n- Ask the user to enter their age.\\n- If their age is between 0 and 6, then print \"Kid\".\\n- Else if their age is under 0, then print \"Wrong age value, you cannot enter a value 0 or less.\"\\n- Else if the age is greater than 6, do the following:\\n  - An empty variable called total_cost with initial value 0.\\n  - Ask the user to enter the number of items that they want to buy.\\n  - For each item, do the following:\\n    - Ask the user to enter the item name.\\n    - Ask the user to enter the item price.\\n    - Ask the user to enter the item quantity.\\n    - Calculate the item total cost by multiplying the quantity by the price and name it as item_cost.\\n    - Update the total_cost variable by adding the value of item_cost.\\n    - Print the item_cost and the total_cost.\\n  - If the total_cost is greater than 200, make a discount of 20% for this special customer!\\n- Handle any unexpected inputs from the users (Just cast the input values and catch the errors!).\\n- Finally, ask the user if they want to repeat the same process from step 1 or not. Use loops, but only one of them.\\n  - Note: The prompt to repeat comes after catching the errors.\\n'"
      ]
     },
     "execution_count": 2,
     "metadata": {},
     "output_type": "execute_result"
    }
   ],
   "source": [
    "'''\n",
    "Write a program that does the following:\n",
    "- Ask the user to enter their name.\n",
    "- Ask the user to enter their age.\n",
    "- If their age is between 0 and 6, then print \"Kid\".\n",
    "- Else if their age is under 0, then print \"Wrong age value, you cannot enter a value 0 or less.\"\n",
    "- Else if the age is greater than 6, do the following:\n",
    "  - An empty variable called total_cost with initial value 0.\n",
    "  - Ask the user to enter the number of items that they want to buy.\n",
    "  - For each item, do the following:\n",
    "    - Ask the user to enter the item name.\n",
    "    - Ask the user to enter the item price.\n",
    "    - Ask the user to enter the item quantity.\n",
    "    - Calculate the item total cost by multiplying the quantity by the price and name it as item_cost.\n",
    "    - Update the total_cost variable by adding the value of item_cost.\n",
    "    - Print the item_cost and the total_cost.\n",
    "  - If the total_cost is greater than 200, make a discount of 20% for this special customer!\n",
    "- Handle any unexpected inputs from the users (Just cast the input values and catch the errors!).\n",
    "- Finally, ask the user if they want to repeat the same process from step 1 or not. Use loops, but only one of them.\n",
    "  - Note: The prompt to repeat comes after catching the errors.\n",
    "'''"
   ]
  },
  {
   "cell_type": "code",
   "execution_count": 3,
   "id": "7f1ce1a9-9a44-41ce-b15f-7c70710766e2",
   "metadata": {},
   "outputs": [
    {
     "name": "stdout",
     "output_type": "stream",
     "text": [
      "Kid\n"
     ]
    }
   ],
   "source": [
    "while True:\n",
    "    try:\n",
    "        \n",
    "        name = input(\"Enter your name: \")\n",
    "        age = int(input(\"Enter your age: \"))\n",
    "\n",
    "        if age >= 0 and age <= 6:\n",
    "            print(\"Kid\")\n",
    "        elif age < 0:\n",
    "            print(\"Wrong age value, you cannot enter a value lessthan 0.\")\n",
    "        else:\n",
    "            total_cost = 0\n",
    "            num_items = int(input(\"Enter the number of items you want to buy: \"))\n",
    "\n",
    "            for _ in range(num_items):\n",
    "                item_name = input(\"Enter the item name: \")\n",
    "                item_price = float(input(\"Enter the item price: \"))\n",
    "                item_quantity = int(input(\"Enter the item quantity: \"))\n",
    "                item_cost = item_price * item_quantity\n",
    "                total_cost += item_cost\n",
    "                print(\"Item cost:\", item_cost)\n",
    "                print(\"Total cost:\", total_cost)\n",
    "\n",
    "            if total_cost > 200:\n",
    "                total_cost *= 0.8\n",
    "                print(\"Total cost after discount:\", total_cost)\n",
    "\n",
    "        repeat = input(\"Do you want to repeat the process? (yes/no): \")\n",
    "        if repeat.lower() != \"yes\":\n",
    "            break\n",
    "\n",
    "    except ValueError:\n",
    "        print(\"Invalid input. Please enter a valid value.\")"
   ]
  }
 ],
 "metadata": {
  "kernelspec": {
   "display_name": "Python 3 (ipykernel)",
   "language": "python",
   "name": "python3"
  },
  "language_info": {
   "codemirror_mode": {
    "name": "ipython",
    "version": 3
   },
   "file_extension": ".py",
   "mimetype": "text/x-python",
   "name": "python",
   "nbconvert_exporter": "python",
   "pygments_lexer": "ipython3",
   "version": "3.12.3"
  }
 },
 "nbformat": 4,
 "nbformat_minor": 5
}
